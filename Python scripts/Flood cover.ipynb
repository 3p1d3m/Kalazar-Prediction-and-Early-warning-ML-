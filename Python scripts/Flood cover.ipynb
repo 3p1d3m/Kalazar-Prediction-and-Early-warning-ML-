{
 "cells": [
  {
   "cell_type": "markdown",
   "metadata": {},
   "source": [
    "# Flood from GEE"
   ]
  },
  {
   "cell_type": "code",
   "execution_count": 18,
   "metadata": {},
   "outputs": [
    {
     "data": {
      "text/html": [
       "\n",
       "            <style>\n",
       "                .geemap-dark {\n",
       "                    --jp-widgets-color: white;\n",
       "                    --jp-widgets-label-color: white;\n",
       "                    --jp-ui-font-color1: white;\n",
       "                    --jp-layout-color2: #454545;\n",
       "                    background-color: #383838;\n",
       "                }\n",
       "\n",
       "                .geemap-dark .jupyter-button {\n",
       "                    --jp-layout-color3: #383838;\n",
       "                }\n",
       "\n",
       "                .geemap-colab {\n",
       "                    background-color: var(--colab-primary-surface-color, white);\n",
       "                }\n",
       "\n",
       "                .geemap-colab .jupyter-button {\n",
       "                    --jp-layout-color3: var(--colab-primary-surface-color, white);\n",
       "                }\n",
       "            </style>\n",
       "            "
      ],
      "text/plain": [
       "<IPython.core.display.HTML object>"
      ]
     },
     "metadata": {},
     "output_type": "display_data"
    },
    {
     "name": "stdout",
     "output_type": "stream",
     "text": [
      "                 date  flooded_area_m2\n",
      "0 2015-01-11 03:41:25     1.449762e+06\n",
      "1 2015-01-11 03:41:50     1.151573e+08\n",
      "2 2015-01-11 03:42:15     4.799166e+06\n",
      "3 2015-04-05 03:41:47     5.925780e+07\n",
      "4 2015-04-05 03:42:16     6.412240e+05\n"
     ]
    }
   ],
   "source": [
    "import ee\n",
    "import geemap\n",
    "import pandas as pd\n",
    "import os\n",
    "\n",
    "# Initialize Earth Engine\n",
    "ee.Initialize(project=\"gee-ndvi-berhe\")\n",
    "\n",
    "# Define Area of Interest (South Sudan Bounding Box)\n",
    "aoi = ee.Geometry.Rectangle([30.957, 7.480, 32.008, 9.205])\n",
    "\n",
    "# Load Sentinel-1 SAR Dataset for Flood Mapping\n",
    "sentinel1 = (\n",
    "    ee.ImageCollection(\"COPERNICUS/S1_GRD\")\n",
    "    .filterBounds(aoi)\n",
    "    .filterDate(\"2015-01-01\", \"2024-12-31\")\n",
    "    .filter(ee.Filter.listContains(\"transmitterReceiverPolarisation\", \"VV\"))\n",
    "    .select(\"VV\")\n",
    ")\n",
    "\n",
    "# Compute Flooded Areas (Lower VV Values Indicate Water)\n",
    "def flood_mask(img):\n",
    "    water = img.lt(-18)  # Threshold for flood detection (adjustable)\n",
    "    flood_area = water.multiply(ee.Image.pixelArea()).reduceRegion(\n",
    "        reducer=ee.Reducer.sum(), geometry=aoi, scale=30, maxPixels=1e13\n",
    "    ).get(\"VV\")\n",
    "    \n",
    "    # Ensure the flooded_area value is not None\n",
    "    flood_area = ee.Algorithms.If(flood_area, flood_area, 0)\n",
    "    \n",
    "    return img.set(\"date\", img.date().format()).set(\"flooded_area\", flood_area)\n",
    "\n",
    "# Apply Mask & Extract Time Series\n",
    "flood_ts = sentinel1.map(flood_mask)\n",
    "\n",
    "# Extract Dates & Flooded Areas\n",
    "dates = flood_ts.aggregate_array(\"date\").getInfo()\n",
    "areas = flood_ts.aggregate_array(\"flooded_area\").getInfo()\n",
    "\n",
    "# Convert to DataFrame\n",
    "output_folder = \"flood_cover\"\n",
    "os.makedirs(output_folder, exist_ok=True)  # Ensure output folder exists\n",
    "\n",
    "df = pd.DataFrame({\"date\": dates, \"flooded_area_m2_VV\": areas})\n",
    "df[\"date\"] = pd.to_datetime(df[\"date\"])\n",
    "\n",
    "# Save the DataFrame\n",
    "output_file = os.path.join(output_folder, \"lankien_flood_timeseries_2015_2024.csv\")\n",
    "df.to_csv(output_file, index=False)\n",
    "\n",
    "# Display Output\n",
    "print(df.head())\n"
   ]
  },
  {
   "cell_type": "markdown",
   "metadata": {},
   "source": [
    "Would you like visualizations? I can help you create time-series plots (e.g., line plots of flooded area over time).\n",
    "Do you want further analysis? Trends, seasonality detection, or comparisons with climate variables could be interesting."
   ]
  },
  {
   "cell_type": "markdown",
   "metadata": {},
   "source": [
    "# Other data sources"
   ]
  },
  {
   "cell_type": "code",
   "execution_count": 31,
   "metadata": {},
   "outputs": [
    {
     "data": {
      "text/html": [
       "\n",
       "            <style>\n",
       "                .geemap-dark {\n",
       "                    --jp-widgets-color: white;\n",
       "                    --jp-widgets-label-color: white;\n",
       "                    --jp-ui-font-color1: white;\n",
       "                    --jp-layout-color2: #454545;\n",
       "                    background-color: #383838;\n",
       "                }\n",
       "\n",
       "                .geemap-dark .jupyter-button {\n",
       "                    --jp-layout-color3: #383838;\n",
       "                }\n",
       "\n",
       "                .geemap-colab {\n",
       "                    background-color: var(--colab-primary-surface-color, white);\n",
       "                }\n",
       "\n",
       "                .geemap-colab .jupyter-button {\n",
       "                    --jp-layout-color3: var(--colab-primary-surface-color, white);\n",
       "                }\n",
       "            </style>\n",
       "            "
      ],
      "text/plain": [
       "<IPython.core.display.HTML object>"
      ]
     },
     "metadata": {},
     "output_type": "display_data"
    },
    {
     "name": "stdout",
     "output_type": "stream",
     "text": [
      "         date  flooded_area_m2  flooded_area_km2\n",
      "0  2001-08-06     5.532464e+05          0.553246\n",
      "1  2002-04-26     0.000000e+00          0.000000\n",
      "2  2006-08-12     0.000000e+00          0.000000\n",
      "3  2007-07-03     2.253798e+07         22.537976\n",
      "4  2007-07-29     6.021570e+06          6.021570\n",
      "✅ Flood time-series saved as: lankien_flood_timeseries.csv\n"
     ]
    }
   ],
   "source": [
    "import ee\n",
    "import pandas as pd\n",
    "\n",
    "# Initialize Google Earth Engine (GEE)\n",
    "ee.Initialize(project=\"gee-ndvi-berhe\")\n",
    "\n",
    "# Define Lankien (South Sudan) bounding box\n",
    "lankien = ee.Geometry.Rectangle([30.957, 7.480, 32.008, 9.205])\n",
    "\n",
    "# Load Global Flood Database (GFD)\n",
    "gfd = ee.ImageCollection(\"GLOBAL_FLOOD_DB/MODIS_EVENTS/V1\").filterBounds(lankien)\n",
    "\n",
    "# Function to calculate flooded area for each image\n",
    "def extract_flood_data(img):\n",
    "    date = img.date().format(\"YYYY-MM-dd\")  # Extract date\n",
    "    flooded_pixels = img.select(\"flooded\").gt(0).multiply(ee.Image.pixelArea())  # Convert to area (m²)\n",
    "    flooded_area = flooded_pixels.reduceRegion(\n",
    "        reducer=ee.Reducer.sum(),\n",
    "        geometry=lankien,\n",
    "        scale=250,  # MODIS resolution is 250m\n",
    "        maxPixels=1e13\n",
    "    ).get(\"flooded\")\n",
    "    \n",
    "    return ee.Feature(None, {\"date\": date, \"flooded_area_m2\": flooded_area})\n",
    "\n",
    "# Apply the function over the collection\n",
    "flood_ts = gfd.map(extract_flood_data)\n",
    "\n",
    "# Convert to a FeatureCollection and extract results\n",
    "flood_list = flood_ts.aggregate_array(\"date\").getInfo()\n",
    "flood_area_list = flood_ts.aggregate_array(\"flooded_area_m2\").getInfo()\n",
    "\n",
    "# Convert to a Pandas DataFrame\n",
    "df = pd.DataFrame({\"date\": flood_list, \"flooded_area_m2\": flood_area_list})\n",
    "\n",
    "# Convert to km²\n",
    "df[\"flooded_area_km2\"] = df[\"flooded_area_m2\"] / 1e6\n",
    "\n",
    "# Save to CSV\n",
    "csv_filename = \"lankien_flood_timeseries.csv\"\n",
    "df.to_csv(csv_filename, index=False)\n",
    "\n",
    "# Display the first few rows\n",
    "print(df.head())\n",
    "\n",
    "print(f\"✅ Flood time-series saved as: {csv_filename}\")\n"
   ]
  },
  {
   "cell_type": "markdown",
   "metadata": {},
   "source": [
    "## Using Dynamic World in Google Earth Engine (GEE)\n",
    "Dynamic World Land Cover Classes\n",
    "The dataset classifies land cover into 10 categories:\n",
    "Water\n",
    "Trees\n",
    "Grass\n",
    "Crops\n",
    "Shrub & Scrub\n",
    "Built Area\n",
    "Bare Ground\n",
    "Snow & Ice\n",
    "Flooded Vegetation\n",
    "Cloud"
   ]
  },
  {
   "cell_type": "code",
   "execution_count": 63,
   "metadata": {},
   "outputs": [
    {
     "data": {
      "text/html": [
       "\n",
       "            <style>\n",
       "                .geemap-dark {\n",
       "                    --jp-widgets-color: white;\n",
       "                    --jp-widgets-label-color: white;\n",
       "                    --jp-ui-font-color1: white;\n",
       "                    --jp-layout-color2: #454545;\n",
       "                    background-color: #383838;\n",
       "                }\n",
       "\n",
       "                .geemap-dark .jupyter-button {\n",
       "                    --jp-layout-color3: #383838;\n",
       "                }\n",
       "\n",
       "                .geemap-colab {\n",
       "                    background-color: var(--colab-primary-surface-color, white);\n",
       "                }\n",
       "\n",
       "                .geemap-colab .jupyter-button {\n",
       "                    --jp-layout-color3: var(--colab-primary-surface-color, white);\n",
       "                }\n",
       "            </style>\n",
       "            "
      ],
      "text/plain": [
       "<IPython.core.display.HTML object>"
      ]
     },
     "metadata": {},
     "output_type": "display_data"
    },
    {
     "data": {
      "application/vnd.jupyter.widget-view+json": {
       "model_id": "180c3c91618848d4b822bbbf38e26b5f",
       "version_major": 2,
       "version_minor": 0
      },
      "text/plain": [
       "Map(center=[8.55845984078217, 32.002122499999984], controls=(WidgetControl(options=['position', 'transparent_b…"
      ]
     },
     "execution_count": null,
     "metadata": {},
     "output_type": "execute_result"
    }
   ],
   "source": [
    "import ee\n",
    "import geemap\n",
    "\n",
    "# Initialize Earth Engine\n",
    "ee.Initialize(project=\"gee-ndvi-berhe\")\n",
    "\n",
    "# Load Dynamic World dataset\n",
    "dw = ee.ImageCollection(\"GOOGLE/DYNAMICWORLD/V1\")\n",
    "\n",
    "# Define Area of Interest (AOI)\n",
    "aoi = ee.Geometry.Rectangle([31.003740, 7.813502, 33.000505, 9.301828])  # Example AOI (South Sudan)\n",
    "\n",
    "# Filter by date and region\n",
    "dw_filtered = dw.filterBounds(aoi).filterDate(\"2015-01-01\", \"2024-12-31\")\n",
    "\n",
    "# Select the most recent land cover classification\n",
    "latest_dw = dw_filtered.sort(\"system:time_start\", False).first()\n",
    "\n",
    "# Visualize land cover\n",
    "Map = geemap.Map()\n",
    "Map.centerObject(aoi, 10)\n",
    "Map.addLayer(latest_dw.select(\"label\"), {\n",
    "    \"min\": 0, \"max\": 9, \"palette\": [\n",
    "        \"419BDF\", \"397D49\", \"88B053\", \"E49635\", \"DFC35A\",\n",
    "        \"C4281B\", \"A59B8F\", \"B39FE1\", \"397D49\", \"D0D0D0\"\n",
    "    ]}, \"Land Cover Classification\")\n",
    "Map\n"
   ]
  },
  {
   "cell_type": "code",
   "execution_count": null,
   "metadata": {},
   "outputs": [],
   "source": [
    "import pandas as pd\n",
    "import os\n",
    "\n",
    "def extract_land_cover(img):\n",
    "    land_cover = img.reduceRegion(\n",
    "        reducer=ee.Reducer.frequencyHistogram(), geometry=aoi, scale=30, maxPixels=1e13\n",
    "    ).get(\"label\")\n",
    "    \n",
    "    return img.set(\"date\", img.date().format()).set(\"land_cover\", land_cover)\n",
    "\n",
    "# Apply function to extract land cover data\n",
    "dw_ts = dw_filtered.map(extract_land_cover)\n",
    "\n",
    "# Get dates & land cover histograms\n",
    "dates = dw_ts.aggregate_array(\"date\").getInfo()\n",
    "land_cover_data = dw_ts.aggregate_array(\"land_cover\").getInfo()\n",
    "\n",
    "# Convert to DataFrame\n",
    "df = pd.DataFrame({\"date\": dates, \"land_cover_distribution\": land_cover_data})\n",
    "df[\"date\"] = pd.to_datetime(df[\"date\"])\n",
    "\n",
    "# Save CSV\n",
    "output_file = \"land_cover_timeseries_2015_2024.csv\"\n",
    "df.to_csv(output_file, index=False)\n",
    "\n",
    "print(df.head())\n"
   ]
  },
  {
   "cell_type": "markdown",
   "metadata": {},
   "source": []
  }
 ],
 "metadata": {
  "language_info": {
   "name": "python"
  }
 },
 "nbformat": 4,
 "nbformat_minor": 2
}
