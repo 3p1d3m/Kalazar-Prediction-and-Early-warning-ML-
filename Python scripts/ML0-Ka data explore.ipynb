{
 "cells": [
  {
   "cell_type": "code",
   "execution_count": 39,
   "metadata": {},
   "outputs": [],
   "source": [
    "# This is a machine learning model for KA prediction \n",
    "# The KA data is collected form the Lankien Hopsital-MSF\n",
    "# Climate variables were collected from the climate data stores  "
   ]
  },
  {
   "cell_type": "code",
   "execution_count": null,
   "metadata": {},
   "outputs": [],
   "source": [
    "# Load libraries \n",
    "\n",
    "# Import necessary libraries\n",
    "import pandas as pd\n",
    "import matplotlib.pyplot as plt\n",
    "import numpy as np\n",
    "import textwrap"
   ]
  },
  {
   "cell_type": "code",
   "execution_count": 3,
   "metadata": {},
   "outputs": [
    {
     "name": "stdout",
     "output_type": "stream",
     "text": [
      "<class 'pandas.core.frame.DataFrame'>\n",
      "RangeIndex: 5425 entries, 0 to 5424\n",
      "Data columns (total 3 columns):\n",
      " #   Column       Non-Null Count  Dtype         \n",
      "---  ------       --------------  -----         \n",
      " 0   Patient No.  5425 non-null   object        \n",
      " 1   Lab No.      5425 non-null   object        \n",
      " 2   date         5425 non-null   datetime64[ns]\n",
      "dtypes: datetime64[ns](1), object(2)\n",
      "memory usage: 127.3+ KB\n"
     ]
    },
    {
     "data": {
      "text/plain": [
       "(None,\n",
       "   Patient No. Lab No.       date\n",
       " 0   LA1281/15   K1338 2015-11-02\n",
       " 1   LA1306/15   K1409 2015-11-13\n",
       " 2   LA1323/15   K1452 2015-11-23\n",
       " 3   LA1326/15   K1460 2015-11-25\n",
       " 4   LA1338/15   K1493 2015-12-01)"
      ]
     },
     "execution_count": null,
     "metadata": {},
     "output_type": "execute_result"
    }
   ],
   "source": [
    "\n",
    "file_path = \"/Users/berhe/Desktop/ka-project/KA_linelist/ll_ka.xlsx\"\n",
    "xls = pd.ExcelFile(file_path)\n",
    "\n",
    "\n",
    "# Load the first sheet\n",
    "df = pd.read_excel(xls, sheet_name=\"Sheet1\")\n",
    "\n",
    "# Display basic info about the dataset\n",
    "df.info(), df.head()\n"
   ]
  },
  {
   "cell_type": "code",
   "execution_count": null,
   "metadata": {},
   "outputs": [],
   "source": [
    "\n",
    "# Import the hospital KA data and clean\n",
    "\n",
    "# Convert 'Date of admission' to datetime if not already\n",
    "df[\"date\"] = pd.to_datetime(df[\"date\"])\n",
    "\n",
    "# Aggregate cases by week\n",
    "df_weekly = df.resample(\"W-Mon\", on=\"date\").size().reset_index(name=\"case_count\")\n",
    "\n",
    "# Display the cleaned and aggregated dataset\n",
    "df_weekly.head()\n"
   ]
  },
  {
   "cell_type": "code",
   "execution_count": null,
   "metadata": {},
   "outputs": [],
   "source": [
    "# plot the Kalazar cases weekly \n",
    "import matplotlib.pyplot as plt\n",
    "\n",
    "# Plot weekly leishmaniasis cases\n",
    "plt.figure(figsize=(12, 4))\n",
    "plt.plot(df_weekly[\"date\"], df_weekly[\"case_count\"], marker=\"o\", linestyle=\"-\", color=\"b\", label=\"Weekly Cases\")\n",
    "\n",
    "# Formatting\n",
    "plt.xlabel(\"Date\")\n",
    "plt.ylabel(\"Number of Cases\")\n",
    "plt.title(\"Weekly Leishmaniasis Cases in Lankien, South Sudan, 2016-2022\")\n",
    "plt.grid(True, linestyle=\"--\", alpha=0.6)\n",
    "plt.xticks(rotation=45)\n",
    "plt.legend()\n",
    "\n",
    "# Show the plot\n",
    "plt.show()\n"
   ]
  },
  {
   "cell_type": "code",
   "execution_count": null,
   "metadata": {},
   "outputs": [],
   "source": [
    "import pandas as pd\n",
    "import matplotlib.pyplot as plt\n",
    "import statsmodels.api as sm\n",
    "\n",
    "# Ensure Date of admission is a datetime index\n",
    "df_weekly[\"Date of admission\"] = pd.to_datetime(df_weekly[\"Date of admission\"])\n",
    "df_weekly.set_index(\"Date of admission\", inplace=True)\n",
    "\n",
    "# Ensure data has a weekly frequency\n",
    "df_weekly = df_weekly.asfreq('W')\n",
    "\n",
    "# Handle missing values if any\n",
    "df_weekly[\"case_count\"].interpolate(method=\"linear\", inplace=True)\n",
    "\n",
    "# Perform seasonal decomposition using moving average\n",
    "decomposition = sm.tsa.seasonal_decompose(df_weekly[\"case_count\"], model=\"additive\", period=52)  # Assuming yearly seasonality\n",
    "\n",
    "# Plot decomposition\n",
    "plt.figure(figsize=(12, 8))\n",
    "decomposition.plot()\n",
    "plt.suptitle(\"Seasonal Decomposition of Weekly Leishmaniasis Cases\", fontsize=14)\n",
    "plt.show()\n"
   ]
  },
  {
   "cell_type": "code",
   "execution_count": null,
   "metadata": {},
   "outputs": [],
   "source": [
    "# Use a rolling average to approximate seasonality (since statsmodels is unavailable)\n",
    "df_weekly[\"trend\"] = df_weekly[\"case_count\"].rolling(window=52, center=True, min_periods=1).mean()  # Approximate yearly trend\n",
    "df_weekly[\"detrended\"] = df_weekly[\"case_count\"] - df_weekly[\"trend\"]\n",
    "df_weekly[\"seasonal\"] = df_weekly[\"detrended\"].rolling(window=4, center=True, min_periods=1).mean()  # Approximate seasonal component\n",
    "\n",
    "# Plot the original data, trend, and seasonality\n",
    "plt.figure(figsize=(12, 8))\n",
    "\n",
    "plt.subplot(3, 1, 1)\n",
    "plt.plot(df_weekly[\"Date of admission\"], df_weekly[\"case_count\"], label=\"Original Data\", color=\"blue\")\n",
    "plt.title(\"Weekly Leishmaniasis Cases\")\n",
    "plt.legend()\n",
    "\n",
    "plt.subplot(3, 1, 2)\n",
    "plt.plot(df_weekly[\"Date of admission\"], df_weekly[\"trend\"], label=\"Trend\", color=\"red\")\n",
    "plt.title(\"Trend Component\")\n",
    "plt.legend()\n",
    "\n",
    "plt.subplot(3, 1, 3)\n",
    "plt.plot(df_weekly[\"Date of admission\"], df_weekly[\"seasonal\"], label=\"Seasonality\", color=\"green\")\n",
    "plt.title(\"Seasonal Component (Approximate)\")\n",
    "plt.legend()\n",
    "\n",
    "plt.tight_layout()\n",
    "plt.show()\n"
   ]
  },
  {
   "cell_type": "code",
   "execution_count": null,
   "metadata": {},
   "outputs": [],
   "source": [
    "# The red trend line shows long-term fluctuations in leishmaniasis cases.\n",
    "# There are periods of increase and decline, suggesting potential long-term drivers (e.g., environmental changes, population movement, interventions).\n",
    "\n",
    "\n",
    "# The green seasonal component suggests recurring short-term patterns.\n",
    "# If these patterns align with specific months or seasons, it indicates climate or environmental factors might be influencing case counts.\n",
    "# However, since this was an approximate decomposition, we should confirm this using statistical methods like autocorrelation analysis or Fourier transformation."
   ]
  },
  {
   "cell_type": "code",
   "execution_count": null,
   "metadata": {},
   "outputs": [],
   "source": [
    "from statsmodels.graphics.tsaplots import plot_acf\n",
    "import numpy as np\n",
    "\n",
    "# Autocorrelation plot\n",
    "plt.figure(figsize=(12, 5))\n",
    "plot_acf(df_weekly[\"case_count\"], lags=52, alpha=0.05)  # Checking up to one year of weekly lags\n",
    "plt.title(\"Autocorrelation of Weekly Leishmaniasis Cases\")\n",
    "plt.show()\n",
    "\n",
    "# Fourier Transform to detect dominant frequencies (seasonal patterns)\n",
    "fft_vals = np.fft.fft(df_weekly[\"case_count\"] - df_weekly[\"case_count\"].mean())  # Remove mean for better detection\n",
    "fft_freqs = np.fft.fftfreq(len(df_weekly), d=1)  # Frequency in weeks\n",
    "\n",
    "# Plot the power spectrum\n",
    "plt.figure(figsize=(12, 5))\n",
    "plt.plot(1 / fft_freqs[1:len(fft_freqs)//2], np.abs(fft_vals[1:len(fft_vals)//2]))  # Convert frequency to period (1/freq)\n",
    "plt.xlabel(\"Period (weeks)\")\n",
    "plt.ylabel(\"Power\")\n",
    "plt.title(\"Fourier Transform: Detecting Seasonal Patterns in Weekly Cases\")\n",
    "plt.grid(True)\n",
    "plt.show()\n"
   ]
  },
  {
   "cell_type": "code",
   "execution_count": null,
   "metadata": {},
   "outputs": [],
   "source": [
    "# Results of Autocorrelation and Fourier Analysis\n",
    "# Autocorrelation (ACF Plot)\n",
    "  # Shows significant positive autocorrelation at lags around 52 weeks, suggesting a yearly seasonal cycle.\n",
    "  # Peaks at 52 weeks indicate that case numbers tend to repeat on a yearly basis, hinting at climate-driven seasonality.\n",
    "\n",
    "# Fourier Transform (Frequency Analysis)\n",
    "\n",
    "  # The power spectrum shows a strong peak around 52 weeks, further confirming annual seasonality.\n",
    "  # Other smaller peaks may indicate sub-seasonal variations, possibly linked to short-term environmental fluctuations (e.g., rainy/dry seasons).\n",
    "  \n",
    "#Conclusion\n",
    "  # ✅ There is clear evidence of a yearly seasonal pattern in leishmaniasis cases.\n",
    "  # 🌍 This strongly suggests that climate factors (e.g., rainfall, humidity, temperature) may play a key role in transmission."
   ]
  },
  {
   "cell_type": "code",
   "execution_count": null,
   "metadata": {},
   "outputs": [],
   "source": [
    "# Manual autocorrelation function (ACF) without statsmodels\n",
    "def autocorrelation(series, lag):\n",
    "    return series.autocorr(lag=lag)\n",
    "\n",
    "# Compute autocorrelation for lags up to 52 weeks (1 year)\n",
    "lags = np.arange(1, 53)\n",
    "acf_values = [autocorrelation(df_weekly[\"case_count\"], lag) for lag in lags]\n",
    "\n",
    "# Plot autocorrelation manually\n",
    "plt.figure(figsize=(12, 5))\n",
    "plt.bar(lags, acf_values, color=\"blue\", alpha=0.7)\n",
    "plt.axhline(y=0, color=\"black\", linewidth=1)\n",
    "plt.axhline(y=0.2, linestyle=\"--\", color=\"gray\")\n",
    "plt.axhline(y=-0.2, linestyle=\"--\", color=\"gray\")\n",
    "plt.xlabel(\"Lag (weeks)\")\n",
    "plt.ylabel(\"Autocorrelation\")\n",
    "plt.title(\"Autocorrelation of Weekly Leishmaniasis Cases (Manual)\")\n",
    "plt.grid(True, linestyle=\"--\", alpha=0.6)\n",
    "plt.show()\n",
    "\n",
    "# Fourier Transform for seasonality detection\n",
    "fft_vals = np.fft.fft(df_weekly[\"case_count\"] - df_weekly[\"case_count\"].mean())  # Remove mean for better detection\n",
    "fft_freqs = np.fft.fftfreq(len(df_weekly), d=1)  # Frequency in weeks\n",
    "\n",
    "# Plot Fourier transform spectrum\n",
    "plt.figure(figsize=(12, 5))\n",
    "plt.plot(1 / fft_freqs[1:len(fft_freqs)//2], np.abs(fft_vals[1:len(fft_vals)//2]))  # Convert frequency to period (1/freq)\n",
    "plt.xlabel(\"Period (weeks)\")\n",
    "plt.ylabel(\"Power\")\n",
    "plt.title(\"Fourier Transform: Detecting Seasonal Patterns in Weekly Cases\")\n",
    "plt.grid(True)\n",
    "plt.show()"
   ]
  }
 ],
 "metadata": {
  "language_info": {
   "name": "python"
  }
 },
 "nbformat": 4,
 "nbformat_minor": 2
}
