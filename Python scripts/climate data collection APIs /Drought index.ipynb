{
 "cells": [
  {
   "cell_type": "code",
   "execution_count": 10,
   "metadata": {},
   "outputs": [
    {
     "ename": "ModuleNotFoundError",
     "evalue": "No module named 'distutils'",
     "output_type": "error",
     "traceback": [
      "\u001b[0;31m---------------------------------------------------------------------------\u001b[0m\n",
      "\u001b[0;31mModuleNotFoundError\u001b[0m                       Traceback (most recent call last)\n",
      "Cell \u001b[0;32mIn[10], line 6\u001b[0m\n",
      "\u001b[1;32m      4\u001b[0m \u001b[38;5;28;01mimport\u001b[39;00m\u001b[38;5;250m \u001b[39m\u001b[38;5;21;01mxarray\u001b[39;00m\u001b[38;5;250m \u001b[39m\u001b[38;5;28;01mas\u001b[39;00m\u001b[38;5;250m \u001b[39m\u001b[38;5;21;01mxr\u001b[39;00m\n",
      "\u001b[1;32m      5\u001b[0m \u001b[38;5;28;01mimport\u001b[39;00m\u001b[38;5;250m \u001b[39m\u001b[38;5;21;01mmatplotlib\u001b[39;00m\u001b[38;5;21;01m.\u001b[39;00m\u001b[38;5;21;01mpyplot\u001b[39;00m\u001b[38;5;250m \u001b[39m\u001b[38;5;28;01mas\u001b[39;00m\u001b[38;5;250m \u001b[39m\u001b[38;5;21;01mplt\u001b[39;00m\n",
      "\u001b[0;32m----> 6\u001b[0m \u001b[38;5;28;01mfrom\u001b[39;00m\u001b[38;5;250m \u001b[39m\u001b[38;5;21;01mclimate_indices\u001b[39;00m\u001b[38;5;250m \u001b[39m\u001b[38;5;28;01mimport\u001b[39;00m compute, indices\n",
      "\u001b[1;32m      9\u001b[0m \u001b[38;5;66;03m# Define Lankien coordinates\u001b[39;00m\n",
      "\u001b[1;32m     10\u001b[0m latitude \u001b[38;5;241m=\u001b[39m \u001b[38;5;241m8.4281\u001b[39m\n",
      "\n",
      "File \u001b[0;32m~/Desktop/ka-project/.venv/lib/python3.12/site-packages/climate_indices/compute.py:4\u001b[0m\n",
      "\u001b[1;32m      1\u001b[0m \u001b[38;5;28;01mfrom\u001b[39;00m\u001b[38;5;250m \u001b[39m\u001b[38;5;21;01mclimate_indices\u001b[39;00m\u001b[38;5;250m \u001b[39m\u001b[38;5;28;01mimport\u001b[39;00m utils, lmoments\n",
      "\u001b[1;32m      3\u001b[0m \u001b[38;5;28;01mfrom\u001b[39;00m\u001b[38;5;250m \u001b[39m\u001b[38;5;21;01menum\u001b[39;00m\u001b[38;5;250m \u001b[39m\u001b[38;5;28;01mimport\u001b[39;00m Enum\n",
      "\u001b[0;32m----> 4\u001b[0m \u001b[38;5;28;01mfrom\u001b[39;00m\u001b[38;5;250m \u001b[39m\u001b[38;5;21;01mdistutils\u001b[39;00m\u001b[38;5;21;01m.\u001b[39;00m\u001b[38;5;21;01mversion\u001b[39;00m\u001b[38;5;250m \u001b[39m\u001b[38;5;28;01mimport\u001b[39;00m LooseVersion\n",
      "\u001b[1;32m      5\u001b[0m \u001b[38;5;28;01mimport\u001b[39;00m\u001b[38;5;250m \u001b[39m\u001b[38;5;21;01mlogging\u001b[39;00m\n",
      "\u001b[1;32m      7\u001b[0m \u001b[38;5;66;03m# from dask.array import pad\u001b[39;00m\n",
      "\u001b[1;32m      8\u001b[0m \u001b[38;5;66;03m# from dask_image.ndfilters import convolve\u001b[39;00m\n",
      "\n",
      "\u001b[0;31mModuleNotFoundError\u001b[0m: No module named 'distutils'"
     ]
    }
   ],
   "source": [
    "import numpy as np\n",
    "import pandas as pd\n",
    "import requests\n",
    "import xarray as xr\n",
    "import matplotlib.pyplot as plt\n",
    "from climate_indices import compute, indices\n",
    "\n",
    "\n",
    "# Define Lankien coordinates\n",
    "latitude = 8.4281\n",
    "longitude = 33.7833\n",
    "\n",
    "# Define time range\n",
    "start_date = \"2015-01-01\"\n",
    "end_date = \"2025-03-04\"\n",
    "\n",
    "# Function to fetch NASA POWER data\n",
    "def fetch_nasa_power(lat, lon, start, end, params=[\"PRECTOT\", \"PET\"]):\n",
    "    url = f\"https://power.larc.nasa.gov/api/temporal/monthly/point?parameters={','.join(params)}&community=SB&longitude={lon}&latitude={lat}&start={start}&end={end}&format=JSON\"\n",
    "    response = requests.get(url)\n",
    "    data = response.json()\n",
    "    if \"parameters\" in data:\n",
    "        df = pd.DataFrame(data['parameters']).T\n",
    "        df.index = pd.to_datetime(df.index, format='%Y%m')\n",
    "        return df\n",
    "    else:\n",
    "        print(\"Error fetching NASA POWER data:\", data)\n",
    "        return None\n",
    "\n",
    "# Fetch precipitation and PET data\n",
    "nasa_data = fetch_nasa_power(latitude, longitude, \"201501\", \"202502\")\n",
    "if nasa_data is not None:\n",
    "    precipitation = nasa_data[\"PRECTOT\"]\n",
    "    pet = nasa_data[\"PET\"]\n",
    "    \n",
    "    # Calculate SPEI using precipitation and PET\n",
    "    clim_data = precipitation - pet\n",
    "    spei_values = compute.spei(series=clim_data, scale=12)\n",
    "    \n",
    "    # Plot SPEI\n",
    "    plt.figure(figsize=(12, 5))\n",
    "    plt.plot(clim_data.index, spei_values, label=\"Local SPEI (NASA POWER)\", color='blue')\n",
    "    plt.axhline(y=0, color='black', linestyle='--')\n",
    "    plt.title(\"SPEI for Lankien (2015-2025)\")\n",
    "    plt.xlabel(\"Year\")\n",
    "    plt.ylabel(\"SPEI\")\n",
    "    plt.legend()\n",
    "    plt.grid()\n",
    "    plt.show()\n",
    "else:\n",
    "    print(\"Failed to retrieve data.\")\n"
   ]
  }
 ],
 "metadata": {
  "language_info": {
   "name": "python"
  }
 },
 "nbformat": 4,
 "nbformat_minor": 2
}
