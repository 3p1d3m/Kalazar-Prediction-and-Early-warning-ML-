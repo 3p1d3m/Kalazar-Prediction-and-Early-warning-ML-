{
 "cells": [
  {
   "cell_type": "markdown",
   "metadata": {},
   "source": [
    "🛠 How It Works\n",
    "Checks if a dataset already exists (radiation_Lankien.csv).\n",
    "Finds missing dates by comparing available dates to expected ones.\n",
    "Only fetches missing data instead of downloading everything again.\n",
    "Appends new data to the existing dataset and saves it.\n",
    "Now, you won't have to re-download everything, making the script efficient and faster. 🚀"
   ]
  },
  {
   "cell_type": "code",
   "execution_count": 8,
   "metadata": {},
   "outputs": [],
   "source": [
    "import os\n",
    "import requests\n",
    "import pandas as pd\n",
    "from datetime import datetime, timedelta\n",
    "\n",
    "# Function to get NASA POWER solar radiation data\n",
    "def get_solar_radiation(lat, lon, start_date, end_date):\n",
    "    \"\"\"\n",
    "    Fetches solar radiation data from NASA POWER API.\n",
    "\n",
    "    :param lat: Latitude of the location\n",
    "    :param lon: Longitude of the location\n",
    "    :param start_date: Start date (YYYYMMDD)\n",
    "    :param end_date: End date (YYYYMMDD)\n",
    "    :return: Pandas DataFrame with solar radiation data\n",
    "    \"\"\"\n",
    "    url = f\"https://power.larc.nasa.gov/api/temporal/daily/point?parameters=ALLSKY_SFC_SW_DWN&community=RE&longitude={lon}&latitude={lat}&start={start_date}&end={end_date}&format=JSON\"\n",
    "\n",
    "    response = requests.get(url)\n",
    "    \n",
    "    if response.status_code == 200:\n",
    "        data = response.json()\n",
    "        \n",
    "        if \"ALLSKY_SFC_SW_DWN\" in data['properties']['parameter']:\n",
    "            records = data['properties']['parameter']['ALLSKY_SFC_SW_DWN']\n",
    "            \n",
    "            # Convert to DataFrame\n",
    "            solar_df = pd.DataFrame(records.items(), columns=[\"date\", \"solar_radiation\"])\n",
    "            \n",
    "            # Convert date column to datetime format\n",
    "            solar_df[\"date\"] = pd.to_datetime(solar_df[\"date\"], format='%Y%m%d')\n",
    "            \n",
    "            return solar_df\n",
    "        else:\n",
    "            print(\"⚠️ No solar radiation data found in response.\")\n",
    "            return None\n",
    "    else:\n",
    "        print(f\"❌ Error fetching data: {response.status_code}\")\n",
    "        print(response.text)\n",
    "        return None\n",
    "\n",
    "# 📍 Lankien (South Sudan)\n",
    "latitude = 8.4281\n",
    "longitude = 33.7833\n",
    "start = \"20150101\"  # Fixed start date\n",
    "end = (datetime.today() - timedelta(days=7)).strftime(\"%Y%m%d\")  # 📅 Dynamic end date (7 days ago)\n",
    "\n",
    "# 📂 Check if existing data is available\n",
    "output_folder = \"Solar_radiation_Dataset\"\n",
    "os.makedirs(output_folder, exist_ok=True)\n",
    "output_path = os.path.join(output_folder, \"radiation_Lankien.csv\")\n"
   ]
  }
 ],
 "metadata": {
  "language_info": {
   "name": "python"
  }
 },
 "nbformat": 4,
 "nbformat_minor": 2
}
